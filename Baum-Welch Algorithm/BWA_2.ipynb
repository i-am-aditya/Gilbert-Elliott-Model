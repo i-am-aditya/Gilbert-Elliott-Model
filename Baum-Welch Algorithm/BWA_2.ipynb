{
 "cells": [
  {
   "cell_type": "code",
   "execution_count": 1,
   "metadata": {
    "id": "RdYis75RSL79"
   },
   "outputs": [],
   "source": [
    "import numpy as np\n",
    "from hidden_markov import hmm\n",
    "from sim2net.packet_loss.gilbert_elliott import GilbertElliott\n",
    "import random\n",
    "from sklearn.metrics import mean_squared_error"
   ]
  },
  {
   "cell_type": "code",
   "execution_count": 2,
   "metadata": {
    "id": "9fqso0AyQjIs"
   },
   "outputs": [],
   "source": [
    "# States\n",
    "states = ('G', 'B')\n",
    "\n",
    "# list of possible observations\n",
    "possible_observation = (0,1)\n",
    "\n",
    "# The observations that we observe and feed to the model\n",
    "obs = []\n",
    "quantities_observations = []\n",
    "p_list = []\n",
    "r_list = []\n",
    "h_list = []\n",
    "k_list = []\n",
    "ppred_list = []\n",
    "rpred_list = []\n",
    "hpred_list = []\n",
    "kpred_list = []\n",
    "observation = []\n",
    "\n",
    "for i in range(5):\n",
    "    p = random.random() #alpha\n",
    "    r = random.random() #beta\n",
    "    h = random.random()\n",
    "    k = random.random()\n",
    "    p_list.append(p)\n",
    "    r_list.append(r)\n",
    "    h_list.append(h)\n",
    "    k_list.append(k)"
   ]
  },
  {
   "cell_type": "code",
   "execution_count": 3,
   "metadata": {
    "colab": {
     "base_uri": "https://localhost:8080/",
     "height": 185
    },
    "id": "WXLINCNjQlrw",
    "outputId": "71a6f0ba-ab81-4940-89ca-8d92e3fc84e3"
   },
   "outputs": [
    {
     "name": "stdout",
     "output_type": "stream",
     "text": [
      "Iteration: 1\n",
      "Iteration: 2\n",
      "Iteration: 3\n",
      "Iteration: 4\n",
      "Iteration: 5\n"
     ]
    }
   ],
   "source": [
    "for z in range(5):\n",
    "    p = p_list[z] #alpha\n",
    "    r = r_list[z] #beta\n",
    "    h = h_list[z]\n",
    "    k = k_list[z]\n",
    "    for i in range(10):\n",
    "        for j in range(10000):\n",
    "            ge = GilbertElliott([p,r,h,k])\n",
    "            pl = int(ge.packet_loss())\n",
    "            obs.append(pl)\n",
    "\n",
    "        observation_tuple = tuple(obs)\n",
    "        observation_list = [observation_tuple]\n",
    "        observation.extend(observation_list)\n",
    "        quantities_observations.append(1)\n",
    "        obs = []\n",
    "        observation_tuple = ()\n",
    "        observation_list = []\n",
    "\n",
    "    # Input parameters as Numpy matrices\n",
    "    start_probability = np.matrix( '0.5 0.5 ')\n",
    "    transition_probability = np.matrix('0.6 0.4 ;  0.3 0.7 ')\n",
    "    emission_probability = np.matrix( '0.3 0.7 ; 0.4 0.6 ' )\n",
    "    \n",
    "    test = hmm(states,possible_observation,start_probability,transition_probability,emission_probability)\n",
    "    \n",
    "    prob = test.log_prob(observation, quantities_observations)\n",
    "    #print (\"Probability of sequence with original parameters : %f\"%(prob))\n",
    "    \n",
    "    #Apply Baum-welch Algorithm\n",
    "    num_iter=1000\n",
    "    emission,transition,start = test.train_hmm(observation,num_iter,quantities_observations)\n",
    "    \n",
    "    #Print output after applying the algorithm\n",
    "    \"\"\"print(emission)\n",
    "    \n",
    "    print(start)\n",
    "    \n",
    "    print(transition) \"\"\"\n",
    "    \n",
    "    prob = test.log_prob(observation, quantities_observations)\n",
    "    #print (\"Probability of sequence after %d iterations : %f\"%(num_iter,prob))\n",
    "    print(\"Iteration:\",z+1)\n",
    "    p_diff = abs(transition[0,1] - p)\n",
    "    r_diff = abs(transition[1,0] - r)\n",
    "    h_diff = abs(emission[1,0] - h)\n",
    "    k_diff = abs(emission[0,0] - k)\n",
    "    ppred_list.append(transition[0,1])\n",
    "    rpred_list.append(transition[1,0])\n",
    "    hpred_list.append(emission[1,0])\n",
    "    kpred_list.append(emission[0,0])\n",
    "    #print()\n",
    "    quantities_observations = []\n",
    "    observation = []"
   ]
  },
  {
   "cell_type": "code",
   "execution_count": 4,
   "metadata": {
    "colab": {
     "base_uri": "https://localhost:8080/",
     "height": 50
    },
    "id": "ae9gPaGvQu75",
    "outputId": "5f2f0512-abcb-4690-ae98-65b8024670a6"
   },
   "outputs": [
    {
     "name": "stdout",
     "output_type": "stream",
     "text": [
      "MSE for p: 0.0966907517107271\n",
      "MSE for r: 0.061903241460138925\n"
     ]
    }
   ],
   "source": [
    "print(\"MSE for p:\", mean_squared_error(p_list, ppred_list))\n",
    "print(\"MSE for r:\", mean_squared_error(r_list, rpred_list))\n",
    "#ppred_list = []\n",
    "#rpred_list = []"
   ]
  },
  {
   "cell_type": "code",
   "execution_count": 5,
   "metadata": {},
   "outputs": [
    {
     "name": "stdout",
     "output_type": "stream",
     "text": [
      "MSE for h: 0.028019913620074922\n",
      "MSE for k: 0.11957025419831269\n"
     ]
    }
   ],
   "source": [
    "print(\"MSE for h:\", mean_squared_error(h_list, hpred_list))\n",
    "print(\"MSE for k:\", mean_squared_error(k_list, kpred_list))\n",
    "#hpred_list = []\n",
    "#kpred_list = []"
   ]
  },
  {
   "cell_type": "code",
   "execution_count": 6,
   "metadata": {},
   "outputs": [
    {
     "name": "stdout",
     "output_type": "stream",
     "text": [
      "0.0966907517107271\n",
      "0.16268522907336236\n"
     ]
    }
   ],
   "source": [
    "s = 0.0\n",
    "z = 0.0\n",
    "for i in range(5):\n",
    "    s = s + float((p_list[i] - ppred_list[i])**2)\n",
    "\n",
    "m = float(s/5)\n",
    "print(m)\n",
    "print(float(m/np.mean(p_list)))"
   ]
  },
  {
   "cell_type": "code",
   "execution_count": 7,
   "metadata": {},
   "outputs": [
    {
     "data": {
      "text/plain": [
       "[0.8568663891797068,\n",
       " 0.24274008079983211,\n",
       " 0.5816413055294084,\n",
       " 0.3854663792383528,\n",
       " 0.9049985281270845]"
      ]
     },
     "execution_count": 7,
     "metadata": {},
     "output_type": "execute_result"
    }
   ],
   "source": [
    "p_list"
   ]
  },
  {
   "cell_type": "code",
   "execution_count": 8,
   "metadata": {},
   "outputs": [
    {
     "data": {
      "text/plain": [
       "[0.46849757966443056,\n",
       " 0.38531011760575606,\n",
       " 0.4047862543461118,\n",
       " 0.3846203541862897,\n",
       " 0.3748864776443163]"
      ]
     },
     "execution_count": 8,
     "metadata": {},
     "output_type": "execute_result"
    }
   ],
   "source": [
    "ppred_list"
   ]
  },
  {
   "cell_type": "code",
   "execution_count": 9,
   "metadata": {},
   "outputs": [
    {
     "name": "stdout",
     "output_type": "stream",
     "text": [
      "[0.4223562190445217, 0.3591611417536321, 0.012696090261297366, 0.6430069735346503, 0.027388006448417657]\n",
      "[0.24484265064883354, 0.31311510977015133, 0.2958768539757738, 0.3137183321806077, 0.32279035750878876]\n"
     ]
    }
   ],
   "source": [
    "print(r_list)\n",
    "print(rpred_list)"
   ]
  },
  {
   "cell_type": "code",
   "execution_count": 10,
   "metadata": {},
   "outputs": [
    {
     "name": "stdout",
     "output_type": "stream",
     "text": [
      "[0.930293744071802, 0.5937381999091741, 0.2952568015081234, 0.1508192179354063, 0.1702097194246961]\n",
      "[0.8290276160135368, 0.2942716109674621, 0.433017784117476, 0.28932526291748045, 0.2149588947244339]\n"
     ]
    }
   ],
   "source": [
    "print(h_list)\n",
    "print(hpred_list)"
   ]
  },
  {
   "cell_type": "code",
   "execution_count": 14,
   "metadata": {},
   "outputs": [
    {
     "name": "stdout",
     "output_type": "stream",
     "text": [
      "[0.0417951719680677, 0.1478447981586789, 0.5169798825574576, 0.31439363441506996, 0.3371933361781263]\n",
      "[0.7574864408001483, 0.21137976551243215, 0.32937352090885724, 0.20739575554171052, 0.15022838326442126]\n"
     ]
    }
   ],
   "source": [
    "print(k_list)\n",
    "print(kpred_list)"
   ]
  },
  {
   "cell_type": "code",
   "execution_count": 15,
   "metadata": {},
   "outputs": [
    {
     "name": "stdout",
     "output_type": "stream",
     "text": [
      "0.061903241460138925\n",
      "0.21133034655575395\n"
     ]
    }
   ],
   "source": [
    "s = 0.0\n",
    "z = 0.0\n",
    "for i in range(5):\n",
    "    s = s + float((r_list[i] - rpred_list[i])**2)\n",
    "\n",
    "m = float(s/5)\n",
    "print(m)\n",
    "print(float(m/np.mean(r_list)))"
   ]
  },
  {
   "cell_type": "code",
   "execution_count": 16,
   "metadata": {},
   "outputs": [
    {
     "name": "stdout",
     "output_type": "stream",
     "text": [
      "0.028019913620074922\n",
      "0.06545737075529524\n"
     ]
    }
   ],
   "source": [
    "s = 0.0\n",
    "z = 0.0\n",
    "for i in range(5):\n",
    "    s = s + float((h_list[i] - hpred_list[i])**2)\n",
    "\n",
    "m = float(s/5)\n",
    "print(m)\n",
    "print(float(m/np.mean(h_list)))"
   ]
  },
  {
   "cell_type": "code",
   "execution_count": 17,
   "metadata": {},
   "outputs": [
    {
     "name": "stdout",
     "output_type": "stream",
     "text": [
      "0.11957025419831269\n",
      "0.44017690144489735\n"
     ]
    }
   ],
   "source": [
    "s = 0.0\n",
    "z = 0.0\n",
    "for i in range(5):\n",
    "    s = s + float((k_list[i] - kpred_list[i])**2)\n",
    "\n",
    "m = float(s/5)\n",
    "print(m)\n",
    "print(float(m/np.mean(k_list)))"
   ]
  }
 ],
 "metadata": {
  "colab": {
   "collapsed_sections": [],
   "name": "BWA.ipynb",
   "provenance": []
  },
  "kernelspec": {
   "display_name": "Python 3",
   "language": "python",
   "name": "python3"
  },
  "language_info": {
   "codemirror_mode": {
    "name": "ipython",
    "version": 3
   },
   "file_extension": ".py",
   "mimetype": "text/x-python",
   "name": "python",
   "nbconvert_exporter": "python",
   "pygments_lexer": "ipython3",
   "version": "3.8.5"
  }
 },
 "nbformat": 4,
 "nbformat_minor": 1
}
